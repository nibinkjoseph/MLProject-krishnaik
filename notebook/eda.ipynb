{
 "cells": [
  {
   "cell_type": "code",
   "execution_count": null,
   "metadata": {},
   "outputs": [],
   "source": [
    "##Student performance Indicator\n",
    "\n",
    "# Life cycle of Machine learning Project\n",
    "# Understanding the Problem Statement\n",
    "# Data Collection\n",
    "# Data Checks to perform\n",
    "# Exploratory data analysis\n",
    "# Data Pre-Processing\n",
    "# Model Training\n",
    "# Choose best model"
   ]
  }
 ],
 "metadata": {
  "language_info": {
   "name": "python"
  }
 },
 "nbformat": 4,
 "nbformat_minor": 2
}
